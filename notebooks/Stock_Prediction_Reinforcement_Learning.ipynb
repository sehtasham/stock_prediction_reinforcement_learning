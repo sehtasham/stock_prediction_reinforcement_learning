{
 "cells": [
  {
   "cell_type": "markdown",
   "metadata": {},
   "source": [
    "## Stock Price Prediction Using Reinforcement Learning\n",
    "\n",
    "Import the required Libraries"
   ]
  },
  {
   "cell_type": "code",
   "execution_count": null,
   "metadata": {},
   "outputs": [],
   "source": [
    "import keras\n",
    "from keras.models import Sequential\n",
    "from keras.models import load_model\n",
    "from keras.layers import Dense\n",
    "from tensorflow.keras.optimizers import Adam\n",
    "from collections import deque\n",
    "\n",
    "import sys\n",
    "import math\n",
    "import numpy as np\n",
    "import random\n",
    "import parameters"
   ]
  },
  {
   "cell_type": "markdown",
   "metadata": {},
   "source": [
    "Include Some Default Parameters"
   ]
  },
  {
   "cell_type": "code",
   "execution_count": null,
   "metadata": {},
   "outputs": [],
   "source": [
    "GAMMA = 0.95\n",
    "EPSILON = 1.0\n",
    "EPSILON_MIN = 0.01\n",
    "EPSILON_DECAY = 0.995\n",
    "STOCK_NAME = \"AMZN\"\n",
    "WINDOW_SIZE = 10\n",
    "EPOCHS = 1000\n",
    "MODEL = \"model_ep1\""
   ]
  },
  {
   "cell_type": "markdown",
   "metadata": {},
   "source": [
    "##  1. Modeling of Agent\n",
    "\n",
    "Agent Class which contain all the functions required"
   ]
  },
  {
   "cell_type": "code",
   "execution_count": null,
   "metadata": {},
   "outputs": [],
   "source": [
    "class Agent:\n",
    "    def __init__(self, state_size, is_eval=False, model_name=\"\"):\n",
    "        self.state_size = state_size\n",
    "        # 3 Actions: Sit, Buy or Sell\n",
    "        self.action_size = 3\n",
    "        self.memory = deque(maxlen=1000)\n",
    "        self.inventory = []\n",
    "        self.model_name = model_name\n",
    "        self.is_eval = is_eval\n",
    "        self.gamma = parameters.GAMMA\n",
    "        self.epsilon = parameters.EPSILON\n",
    "        self.epsilon_min = parameters.EPSILON_MIN\n",
    "        self.epsilon_decay = parameters.EPSILON_DECAY\n",
    "        self.model = load_model(model_name) if is_eval else self._model()\n",
    "    def _model(self):\n",
    "        model = Sequential()\n",
    "        model.add(Dense(units=64, input_dim=self.state_size, activation=\"relu\"))\n",
    "        model.add(Dense(units=32, activation=\"relu\"))\n",
    "        model.add(Dense(units=8, activation=\"relu\"))\n",
    "        model.add(Dense(self.action_size, activation=\"linear\"))\n",
    "        model.compile(loss=\"mse\", optimizer=Adam(lr=0.001))\n",
    "        return model\n",
    "    def act(self, state):\n",
    "        if not self.is_eval and random.random()<= self.epsilon:\n",
    "            return random.randrange(self.action_size)\n",
    "        options = self.model.predict(state)\n",
    "        return np.argmax(options[0])\n",
    "    def expReplay(self, batch_size):\n",
    "        mini_batch = []\n",
    "        l = len(self.memory)\n",
    "        for i in range(l - batch_size + 1, l):\n",
    "            mini_batch.append(self.memory[i])\n",
    "        for state, action, reward, next_state, done in mini_batch:\n",
    "            target = reward\n",
    "            if not done:\n",
    "                target = reward + self.gamma * np.amax(self.model.predict(next_state)[0])\n",
    "            target_f = self.model.predict(state)\n",
    "            target_f[0][action] = target\n",
    "            self.model.fit(state, target_f, epochs=1, verbose=0)\n",
    "        if self.epsilon > self.epsilon_min:\n",
    "            self.epsilon *= self.epsilon_decay\n",
    "        "
   ]
  },
  {
   "cell_type": "markdown",
   "metadata": {},
   "source": [
    "### Functions to format the data"
   ]
  },
  {
   "cell_type": "code",
   "execution_count": null,
   "metadata": {},
   "outputs": [],
   "source": [
    "def formatPrice(n):\n",
    "\treturn (\"-$\" if n < 0 else \"$\") + \"{0:.2f}\".format(abs(n))\n",
    "\n",
    "# returns the vector containing stock data from a fixed file\n",
    "def getStockDataVec(key):\n",
    "\tvec = []\n",
    "\tlines = open(\"../data/\" + key + \".csv\", \"r\").read().splitlines()\n",
    "\n",
    "\tfor line in lines[1:]:\n",
    "\t\tvec.append(float(line.split(\",\")[4]))\n",
    "\n",
    "\treturn vec\n",
    "\n",
    "# returns the sigmoid\n",
    "def sigmoid(x):\n",
    "\treturn 1 / (1 + math.exp(-x))\n",
    "\n",
    "# returns an an n-day state representation ending at time t\n",
    "def getState(data, t, n):\n",
    "\td = t - n + 1\n",
    "\tblock = data[d:t + 1] if d >= 0 else -d * [data[0]] + data[0:t + 1] # pad with t0\n",
    "\tres = []\n",
    "\tfor i in range(n - 1):\n",
    "\t\tres.append(sigmoid(block[i + 1] - block[i]))\n",
    "\n",
    "\treturn np.array([res])"
   ]
  },
  {
   "cell_type": "markdown",
   "metadata": {},
   "source": [
    "## 2. Train the Agent"
   ]
  },
  {
   "cell_type": "code",
   "execution_count": null,
   "metadata": {},
   "outputs": [],
   "source": [
    "def trainAgent(stock_name, window_size, episode_count):\n",
    "\tagent = Agent(window_size)\n",
    "\tdata = getStockDataVec(stock_name)\n",
    "\tl = len(data) - 1\n",
    "\tbatch_size = 32\n",
    "\n",
    "\tfor e in range(episode_count + 1):\n",
    "\t\tprint(\"Epoch \" + str(e) + \"/\" + str(episode_count))\n",
    "\t\tstate = getState(data, 0, window_size + 1)\n",
    "\n",
    "\t\ttotal_profit = 0\n",
    "\t\tagent.inventory = []\n",
    "\n",
    "\t\tfor t in range(l):\n",
    "\t\t\taction = agent.act(state)\n",
    "\n",
    "\t\t\t# sit\n",
    "\t\t\tnext_state = getState(data, t + 1, window_size + 1)\n",
    "\t\t\treward = 0\n",
    "\n",
    "\t\t\tif action == 1: # buy\n",
    "\t\t\t\tagent.inventory.append(data[t])\n",
    "\t\t\t\tprint(\"Buy: \" + formatPrice(data[t]))\n",
    "\n",
    "\t\t\telif action == 2 and len(agent.inventory) > 0: # sell\n",
    "\t\t\t\tbought_price = agent.inventory.pop(0)\n",
    "\t\t\t\treward = max(data[t] - bought_price, 0)\n",
    "\t\t\t\ttotal_profit += data[t] - bought_price\n",
    "\t\t\t\tprint(\"Sell: \" + formatPrice(data[t]) + \" | Profit: \" + formatPrice(data[t] - bought_price))\n",
    "\n",
    "\t\t\tdone = True if t == l - 1 else False\n",
    "\t\t\tagent.memory.append((state, action, reward, next_state, done))\n",
    "\t\t\tstate = next_state\n",
    "\n",
    "\t\t\tif done:\n",
    "\t\t\t\tprint(\"--------------------------------\")\n",
    "\t\t\t\tprint(\"Total Profit: \" + formatPrice(total_profit))\n",
    "\t\t\t\tprint(\"--------------------------------\")\n",
    "\n",
    "\t\t\tif len(agent.memory) > batch_size:\n",
    "\t\t\t\tagent.expReplay(batch_size)\n",
    "\n",
    "\t\tif e % 10 == 0:\n",
    "\t\t\tagent.model.save(\"models/model_ep\" + str(e))"
   ]
  },
  {
   "cell_type": "code",
   "execution_count": null,
   "metadata": {},
   "outputs": [],
   "source": [
    "#Train the Agent by running the following command"
   ]
  },
  {
   "cell_type": "code",
   "execution_count": null,
   "metadata": {},
   "outputs": [],
   "source": [
    "trainAgent(\"AMZN_2022\", 10, 100)"
   ]
  },
  {
   "cell_type": "markdown",
   "metadata": {},
   "source": [
    "## 3. Test the Agent"
   ]
  },
  {
   "cell_type": "code",
   "execution_count": null,
   "metadata": {},
   "outputs": [],
   "source": [
    "import keras\n",
    "from keras.models import load_model\n",
    "\n",
    "from agent import Agent\n",
    "from functions import *\n",
    "import sys\n",
    "\n",
    "model_name = MODEL\n",
    "\n",
    "if len(sys.argv) > 2:\n",
    "    stock_name, model_name = sys.argv[1], sys.argv[2]\n",
    "else:\n",
    "\tprint(\"Usage: python train.py [stock_name] [model_name]\")\n",
    "\tprint(\"Using default paramters\")\n",
    "\n",
    "model = load_model(\"models/\" + model_name)\n",
    "window_size = model.layers[0].input.shape.as_list()[1]\n",
    "\n",
    "agent = Agent(window_size, True, model_name)\n",
    "data = getStockDataVec(stock_name)\n",
    "l = len(data) - 1\n",
    "batch_size = 32\n",
    "\n",
    "state = getState(data, 0, window_size + 1)\n",
    "total_profit = 0\n",
    "agent.inventory = []\n",
    "\n",
    "for t in range(l):\n",
    "\taction = agent.act(state)\n",
    "\n",
    "\t# sit\n",
    "\tnext_state = getState(data, t + 1, window_size + 1)\n",
    "\treward = 0\n",
    "\n",
    "\tif action == 1: # buy\n",
    "\t\tagent.inventory.append(data[t])\n",
    "\t\tprint(\"Buy: \" + formatPrice(data[t]))\n",
    "\n",
    "\telif action == 2 and len(agent.inventory) > 0: # sell\n",
    "\t\tbought_price = agent.inventory.pop(0)\n",
    "\t\treward = max(data[t] - bought_price, 0)\n",
    "\t\ttotal_profit += data[t] - bought_price\n",
    "\t\tprint(\"Sell: \" + formatPrice(data[t]) + \" | Profit: \" + formatPrice(data[t] - bought_price))\n",
    "\n",
    "\tdone = True if t == l - 1 else False\n",
    "\tagent.memory.append((state, action, reward, next_state, done))\n",
    "\tstate = next_state\n",
    "\n",
    "\tif done:\n",
    "\t\tprint(\"--------------------------------\")\n",
    "\t\tprint(stock_name + \" Total Profit: \" + formatPrice(total_profit))\n",
    "\t\tprint(\"--------------------------------\")\n",
    "        "
   ]
  }
 ],
 "metadata": {
  "kernelspec": {
   "display_name": "Python 3 (ipykernel)",
   "language": "python",
   "name": "python3"
  },
  "language_info": {
   "codemirror_mode": {
    "name": "ipython",
    "version": 3
   },
   "file_extension": ".py",
   "mimetype": "text/x-python",
   "name": "python",
   "nbconvert_exporter": "python",
   "pygments_lexer": "ipython3",
   "version": "3.9.5"
  }
 },
 "nbformat": 4,
 "nbformat_minor": 2
}
